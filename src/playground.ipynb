{
 "cells": [
  {
   "cell_type": "code",
   "execution_count": 1,
   "metadata": {},
   "outputs": [],
   "source": [
    "from kmeans import *\n",
    "import os\n",
    "import joblib\n",
    "from evals import *\n",
    "import evals"
   ]
  },
  {
   "cell_type": "code",
   "execution_count": 2,
   "metadata": {},
   "outputs": [],
   "source": [
    "P1 = \"/media/pkmandke/DATA/ECE/courses/info_ret/code/kmeans/\"\n",
    "P2 = \"/media/pkmandke/DATA/ECE/courses/info_ret/data/tobacco/\" + \"text_files_depositions_clean/\""
   ]
  },
  {
   "cell_type": "code",
   "execution_count": 2,
   "metadata": {},
   "outputs": [],
   "source": [
    "P1 = \"/mnt/ceph/tml/clustering/kmeans/\"\n",
    "P2 = \"/mnt/ceph/shared/tobacco/\" + \"text_files_depositions_clean/\""
   ]
  },
  {
   "cell_type": "code",
   "execution_count": 7,
   "metadata": {},
   "outputs": [],
   "source": [
    "tk = joblib.load(P1 + 'obj/tokens_2.sav')"
   ]
  },
  {
   "cell_type": "code",
   "execution_count": 11,
   "metadata": {
    "scrolled": true
   },
   "outputs": [
    {
     "data": {
      "text/plain": [
       "(986, 'fmbl0056.ocr')"
      ]
     },
     "execution_count": 11,
     "metadata": {},
     "output_type": "execute_result"
    }
   ],
   "source": [
    "len([_ for _ in tk.doc_tokens[list(tk.doc_tokens.keys())[0]] if len(_) > 5]), list(tk.doc_tokens.keys())[0]"
   ]
  },
  {
   "cell_type": "code",
   "execution_count": 4,
   "metadata": {},
   "outputs": [
    {
     "name": "stdout",
     "output_type": "stream",
     "text": [
      "Starting eval\n",
      "Total common terms in cluster 0 with 130 documents are 1651\n",
      "Total common terms in cluster 1 with 149 documents are 317\n",
      "Total common terms in cluster 2 with 502 documents are 2488\n",
      "Total common terms in cluster 3 with 2809 documents are 2265\n",
      "Total common terms in cluster 4 with 153 documents are 2289\n",
      "Total common terms in cluster 5 with 91 documents are 99\n",
      "Total common terms in cluster 6 with 182 documents are 970\n",
      "Total common terms in cluster 7 with 199 documents are 6672\n",
      "Total common terms in cluster 8 with 170 documents are 3984\n",
      "Total common terms in cluster 9 with 168 documents are 10995\n",
      "Eval done\n"
     ]
    }
   ],
   "source": [
    "sav = SavLoader(tf_path=BS_PATH + 'TFIDF_2.sav', km_path=BS_PATH + 'kmeans_2_1.sav', tk_path=BS_PATH + 'tokens_2.sav')\n",
    "print(\"Starting eval\")\n",
    "for _ in range(10):\n",
    "    com_terms = sav.eval_cluster(n_clus=_)\n",
    "print(\"Eval done\")\n"
   ]
  },
  {
   "cell_type": "code",
   "execution_count": 5,
   "metadata": {},
   "outputs": [
    {
     "name": "stdout",
     "output_type": "stream",
     "text": [
      "Starting eval\n",
      "Total common terms in cluster 0 with 942 documents are 23866\n",
      "Total common terms in cluster 1 with 107 documents are 7915\n",
      "Total common terms in cluster 2 with 4806 documents are 1754\n",
      "Total common terms in cluster 3 with 283 documents are 4806\n",
      "Total common terms in cluster 4 with 283 documents are 653\n",
      "Total common terms in cluster 5 with 320 documents are 1193\n",
      "Total common terms in cluster 6 with 343 documents are 4768\n",
      "Total common terms in cluster 7 with 123 documents are 2327\n",
      "Total common terms in cluster 8 with 529 documents are 1202\n",
      "Total common terms in cluster 9 with 259 documents are 7238\n",
      "Eval done\n"
     ]
    }
   ],
   "source": [
    "sav = SavLoader(tf_path=BS_PATH + 'TFIDF_1.sav', km_path=BS_PATH + 'kmeans_1_1.sav', tk_path=BS_PATH + 'tokens_1.sav')\n",
    "print(\"Starting eval\")\n",
    "for _ in range(10):\n",
    "    com_terms = sav.eval_cluster(n_clus=_)\n",
    "print(\"Eval done\")\n"
   ]
  }
 ],
 "metadata": {
  "kernelspec": {
   "display_name": "Python 3",
   "language": "python",
   "name": "python3"
  },
  "language_info": {
   "codemirror_mode": {
    "name": "ipython",
    "version": 3
   },
   "file_extension": ".py",
   "mimetype": "text/x-python",
   "name": "python",
   "nbconvert_exporter": "python",
   "pygments_lexer": "ipython3",
   "version": "3.7.4"
  }
 },
 "nbformat": 4,
 "nbformat_minor": 2
}
